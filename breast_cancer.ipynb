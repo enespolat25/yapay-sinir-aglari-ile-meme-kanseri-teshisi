{
  "nbformat": 4,
  "nbformat_minor": 0,
  "metadata": {
    "colab": {
      "name": "breast_cancer.ipynb",
      "version": "0.3.2",
      "provenance": [],
      "collapsed_sections": []
    },
    "kernelspec": {
      "name": "python3",
      "display_name": "Python 3"
    },
    "accelerator": "GPU"
  },
  "cells": [
    {
      "cell_type": "markdown",
      "metadata": {
        "id": "KBAVhRlpvBEW",
        "colab_type": "text"
      },
      "source": [
        "# Yapay Sinir Ağları ile Meme Kanserinin Teşhisi\n",
        "\n",
        "Dünya Kanser Araştırma Fonu'na göre Meme Kanseri kadınlarda en sık görülen kanser türü. 2018 yılında Meme Kanseri vaka sayısı 2.088.849 ve % 25.4'üne kanser teşhisi konuldu.\n",
        "\n",
        "Bu rakamlar erken aşamada Meme Kanseri tespit etmek için bir çözüm üzerinde çalışmaya ikna edecek kadar dikkat çekmektedir."
      ]
    },
    {
      "cell_type": "markdown",
      "metadata": {
        "id": "ECpgXjrjwFBA",
        "colab_type": "text"
      },
      "source": [
        "* Aşağıdaki siteden 699 Meme kanseri şüphelisi hastanın verisini .data formatında bulabilirsiniz. Sizinle paylaşacağım github sayfamda verinin .csv formatı mevcut olacak.\n",
        "\n",
        "https://archive.ics.uci.edu/ml/datasets/Breast+Cancer+Wisconsin+%28Diagnostic%29"
      ]
    },
    {
      "cell_type": "markdown",
      "metadata": {
        "id": "GTKG2zP4wI44",
        "colab_type": "text"
      },
      "source": [
        "Verimizi data adıyla pandas kütüphanesi kullanarak kaydedelim"
      ]
    },
    {
      "cell_type": "code",
      "metadata": {
        "id": "de3w4pW_tpnT",
        "colab_type": "code",
        "colab": {
          "resources": {
            "http://localhost:8080/nbextensions/google.colab/files.js": {
              "data": "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",
              "ok": true,
              "headers": [
                [
                  "content-type",
                  "application/javascript"
                ]
              ],
              "status": 200,
              "status_text": ""
            }
          },
          "base_uri": "https://localhost:8080/",
          "height": 75
        },
        "outputId": "b1c5e861-d3bd-4ceb-9993-da067bd8883b"
      },
      "source": [
        "import pandas as pd\n",
        "from google.colab import files\n",
        "file = files.upload()\n",
        "data = pd.read_csv(\"breastCancer.csv\", header = None)"
      ],
      "execution_count": 2,
      "outputs": [
        {
          "output_type": "display_data",
          "data": {
            "text/html": [
              "\n",
              "     <input type=\"file\" id=\"files-2f53157f-0663-42d7-adf2-022c0a330e52\" name=\"files[]\" multiple disabled />\n",
              "     <output id=\"result-2f53157f-0663-42d7-adf2-022c0a330e52\">\n",
              "      Upload widget is only available when the cell has been executed in the\n",
              "      current browser session. Please rerun this cell to enable.\n",
              "      </output>\n",
              "      <script src=\"/nbextensions/google.colab/files.js\"></script> "
            ],
            "text/plain": [
              "<IPython.core.display.HTML object>"
            ]
          },
          "metadata": {
            "tags": []
          }
        },
        {
          "output_type": "stream",
          "text": [
            "Saving breastCancer.csv to breastCancer.csv\n"
          ],
          "name": "stdout"
        }
      ]
    },
    {
      "cell_type": "code",
      "metadata": {
        "id": "RtsNnt4XwjwP",
        "colab_type": "code",
        "colab": {
          "base_uri": "https://localhost:8080/",
          "height": 498
        },
        "outputId": "f1f71b3e-b2c9-409c-d76d-ab38813730d9"
      },
      "source": [
        "data.head(15)"
      ],
      "execution_count": 16,
      "outputs": [
        {
          "output_type": "execute_result",
          "data": {
            "text/html": [
              "<div>\n",
              "<style scoped>\n",
              "    .dataframe tbody tr th:only-of-type {\n",
              "        vertical-align: middle;\n",
              "    }\n",
              "\n",
              "    .dataframe tbody tr th {\n",
              "        vertical-align: top;\n",
              "    }\n",
              "\n",
              "    .dataframe thead th {\n",
              "        text-align: right;\n",
              "    }\n",
              "</style>\n",
              "<table border=\"1\" class=\"dataframe\">\n",
              "  <thead>\n",
              "    <tr style=\"text-align: right;\">\n",
              "      <th></th>\n",
              "      <th>0</th>\n",
              "      <th>1</th>\n",
              "      <th>2</th>\n",
              "      <th>3</th>\n",
              "      <th>4</th>\n",
              "      <th>5</th>\n",
              "      <th>6</th>\n",
              "      <th>7</th>\n",
              "      <th>8</th>\n",
              "      <th>9</th>\n",
              "      <th>10</th>\n",
              "    </tr>\n",
              "  </thead>\n",
              "  <tbody>\n",
              "    <tr>\n",
              "      <th>0</th>\n",
              "      <td>1000025</td>\n",
              "      <td>5</td>\n",
              "      <td>1</td>\n",
              "      <td>1</td>\n",
              "      <td>1</td>\n",
              "      <td>2</td>\n",
              "      <td>1</td>\n",
              "      <td>3</td>\n",
              "      <td>1</td>\n",
              "      <td>1</td>\n",
              "      <td>0</td>\n",
              "    </tr>\n",
              "    <tr>\n",
              "      <th>1</th>\n",
              "      <td>1002945</td>\n",
              "      <td>5</td>\n",
              "      <td>4</td>\n",
              "      <td>4</td>\n",
              "      <td>5</td>\n",
              "      <td>7</td>\n",
              "      <td>10</td>\n",
              "      <td>3</td>\n",
              "      <td>2</td>\n",
              "      <td>1</td>\n",
              "      <td>0</td>\n",
              "    </tr>\n",
              "    <tr>\n",
              "      <th>2</th>\n",
              "      <td>1015425</td>\n",
              "      <td>3</td>\n",
              "      <td>1</td>\n",
              "      <td>1</td>\n",
              "      <td>1</td>\n",
              "      <td>2</td>\n",
              "      <td>2</td>\n",
              "      <td>3</td>\n",
              "      <td>1</td>\n",
              "      <td>1</td>\n",
              "      <td>0</td>\n",
              "    </tr>\n",
              "    <tr>\n",
              "      <th>3</th>\n",
              "      <td>1016277</td>\n",
              "      <td>6</td>\n",
              "      <td>8</td>\n",
              "      <td>8</td>\n",
              "      <td>1</td>\n",
              "      <td>3</td>\n",
              "      <td>4</td>\n",
              "      <td>3</td>\n",
              "      <td>7</td>\n",
              "      <td>1</td>\n",
              "      <td>0</td>\n",
              "    </tr>\n",
              "    <tr>\n",
              "      <th>4</th>\n",
              "      <td>1017023</td>\n",
              "      <td>4</td>\n",
              "      <td>1</td>\n",
              "      <td>1</td>\n",
              "      <td>3</td>\n",
              "      <td>2</td>\n",
              "      <td>1</td>\n",
              "      <td>3</td>\n",
              "      <td>1</td>\n",
              "      <td>1</td>\n",
              "      <td>0</td>\n",
              "    </tr>\n",
              "    <tr>\n",
              "      <th>5</th>\n",
              "      <td>1017122</td>\n",
              "      <td>8</td>\n",
              "      <td>10</td>\n",
              "      <td>10</td>\n",
              "      <td>8</td>\n",
              "      <td>7</td>\n",
              "      <td>10</td>\n",
              "      <td>9</td>\n",
              "      <td>7</td>\n",
              "      <td>1</td>\n",
              "      <td>1</td>\n",
              "    </tr>\n",
              "    <tr>\n",
              "      <th>6</th>\n",
              "      <td>1018099</td>\n",
              "      <td>1</td>\n",
              "      <td>1</td>\n",
              "      <td>1</td>\n",
              "      <td>1</td>\n",
              "      <td>2</td>\n",
              "      <td>10</td>\n",
              "      <td>3</td>\n",
              "      <td>1</td>\n",
              "      <td>1</td>\n",
              "      <td>0</td>\n",
              "    </tr>\n",
              "    <tr>\n",
              "      <th>7</th>\n",
              "      <td>1018561</td>\n",
              "      <td>2</td>\n",
              "      <td>1</td>\n",
              "      <td>2</td>\n",
              "      <td>1</td>\n",
              "      <td>2</td>\n",
              "      <td>1</td>\n",
              "      <td>3</td>\n",
              "      <td>1</td>\n",
              "      <td>1</td>\n",
              "      <td>0</td>\n",
              "    </tr>\n",
              "    <tr>\n",
              "      <th>8</th>\n",
              "      <td>1033078</td>\n",
              "      <td>2</td>\n",
              "      <td>1</td>\n",
              "      <td>1</td>\n",
              "      <td>1</td>\n",
              "      <td>2</td>\n",
              "      <td>1</td>\n",
              "      <td>1</td>\n",
              "      <td>1</td>\n",
              "      <td>5</td>\n",
              "      <td>0</td>\n",
              "    </tr>\n",
              "    <tr>\n",
              "      <th>9</th>\n",
              "      <td>1033078</td>\n",
              "      <td>4</td>\n",
              "      <td>2</td>\n",
              "      <td>1</td>\n",
              "      <td>1</td>\n",
              "      <td>2</td>\n",
              "      <td>1</td>\n",
              "      <td>2</td>\n",
              "      <td>1</td>\n",
              "      <td>1</td>\n",
              "      <td>0</td>\n",
              "    </tr>\n",
              "    <tr>\n",
              "      <th>10</th>\n",
              "      <td>1035283</td>\n",
              "      <td>1</td>\n",
              "      <td>1</td>\n",
              "      <td>1</td>\n",
              "      <td>1</td>\n",
              "      <td>1</td>\n",
              "      <td>1</td>\n",
              "      <td>3</td>\n",
              "      <td>1</td>\n",
              "      <td>1</td>\n",
              "      <td>0</td>\n",
              "    </tr>\n",
              "    <tr>\n",
              "      <th>11</th>\n",
              "      <td>1036172</td>\n",
              "      <td>2</td>\n",
              "      <td>1</td>\n",
              "      <td>1</td>\n",
              "      <td>1</td>\n",
              "      <td>2</td>\n",
              "      <td>1</td>\n",
              "      <td>2</td>\n",
              "      <td>1</td>\n",
              "      <td>1</td>\n",
              "      <td>0</td>\n",
              "    </tr>\n",
              "    <tr>\n",
              "      <th>12</th>\n",
              "      <td>1041801</td>\n",
              "      <td>5</td>\n",
              "      <td>3</td>\n",
              "      <td>3</td>\n",
              "      <td>3</td>\n",
              "      <td>2</td>\n",
              "      <td>3</td>\n",
              "      <td>4</td>\n",
              "      <td>4</td>\n",
              "      <td>1</td>\n",
              "      <td>1</td>\n",
              "    </tr>\n",
              "    <tr>\n",
              "      <th>13</th>\n",
              "      <td>1043999</td>\n",
              "      <td>1</td>\n",
              "      <td>1</td>\n",
              "      <td>1</td>\n",
              "      <td>1</td>\n",
              "      <td>2</td>\n",
              "      <td>3</td>\n",
              "      <td>3</td>\n",
              "      <td>1</td>\n",
              "      <td>1</td>\n",
              "      <td>0</td>\n",
              "    </tr>\n",
              "    <tr>\n",
              "      <th>14</th>\n",
              "      <td>1044572</td>\n",
              "      <td>8</td>\n",
              "      <td>7</td>\n",
              "      <td>5</td>\n",
              "      <td>10</td>\n",
              "      <td>7</td>\n",
              "      <td>9</td>\n",
              "      <td>5</td>\n",
              "      <td>5</td>\n",
              "      <td>4</td>\n",
              "      <td>1</td>\n",
              "    </tr>\n",
              "  </tbody>\n",
              "</table>\n",
              "</div>"
            ],
            "text/plain": [
              "         0   1   2   3   4   5   6   7   8   9   10\n",
              "0   1000025   5   1   1   1   2   1   3   1   1   0\n",
              "1   1002945   5   4   4   5   7  10   3   2   1   0\n",
              "2   1015425   3   1   1   1   2   2   3   1   1   0\n",
              "3   1016277   6   8   8   1   3   4   3   7   1   0\n",
              "4   1017023   4   1   1   3   2   1   3   1   1   0\n",
              "5   1017122   8  10  10   8   7  10   9   7   1   1\n",
              "6   1018099   1   1   1   1   2  10   3   1   1   0\n",
              "7   1018561   2   1   2   1   2   1   3   1   1   0\n",
              "8   1033078   2   1   1   1   2   1   1   1   5   0\n",
              "9   1033078   4   2   1   1   2   1   2   1   1   0\n",
              "10  1035283   1   1   1   1   1   1   3   1   1   0\n",
              "11  1036172   2   1   1   1   2   1   2   1   1   0\n",
              "12  1041801   5   3   3   3   2   3   4   4   1   1\n",
              "13  1043999   1   1   1   1   2   3   3   1   1   0\n",
              "14  1044572   8   7   5  10   7   9   5   5   4   1"
            ]
          },
          "metadata": {
            "tags": []
          },
          "execution_count": 16
        }
      ]
    },
    {
      "cell_type": "markdown",
      "metadata": {
        "id": "g2cDZ4vKwcYQ",
        "colab_type": "text"
      },
      "source": [
        "Verimize ait sayı-tür bilgileri"
      ]
    },
    {
      "cell_type": "code",
      "metadata": {
        "id": "i6CAJMBKwWwA",
        "colab_type": "code",
        "colab": {
          "base_uri": "https://localhost:8080/",
          "height": 308
        },
        "outputId": "44b42dcf-f240-46cb-985b-0a090e554dfd"
      },
      "source": [
        "data.info()"
      ],
      "execution_count": 15,
      "outputs": [
        {
          "output_type": "stream",
          "text": [
            "<class 'pandas.core.frame.DataFrame'>\n",
            "RangeIndex: 699 entries, 0 to 698\n",
            "Data columns (total 11 columns):\n",
            "0     699 non-null int64\n",
            "1     699 non-null int64\n",
            "2     699 non-null int64\n",
            "3     699 non-null int64\n",
            "4     699 non-null int64\n",
            "5     699 non-null int64\n",
            "6     699 non-null int64\n",
            "7     699 non-null int64\n",
            "8     699 non-null int64\n",
            "9     699 non-null int64\n",
            "10    699 non-null int64\n",
            "dtypes: int64(11)\n",
            "memory usage: 60.1 KB\n"
          ],
          "name": "stdout"
        }
      ]
    },
    {
      "cell_type": "markdown",
      "metadata": {
        "id": "6XtRvF3IyIYV",
        "colab_type": "text"
      },
      "source": [
        "6. indexte bazı veriler ? olarak girilmiş önce bunları 0 olarak değiştirelim daha sonra kolonun ortalamasını alarak bu 0 yazdığımız hücrelere ortalamasını yazalım"
      ]
    },
    {
      "cell_type": "code",
      "metadata": {
        "id": "SFZCPgHZt0aB",
        "colab_type": "code",
        "colab": {
          "base_uri": "https://localhost:8080/",
          "height": 198
        },
        "outputId": "3f89c263-2548-4f20-8bc2-4b3887a59f16"
      },
      "source": [
        "df = pd.DataFrame(data)\n",
        "df[6] = df[6].replace('?',0)\n",
        "df[6] = df[6].astype(int)\n",
        "\n",
        "mean = int(df[6].mean())\n",
        "df[6] = df[6].replace(0,mean)\n",
        "df.head()"
      ],
      "execution_count": 23,
      "outputs": [
        {
          "output_type": "execute_result",
          "data": {
            "text/html": [
              "<div>\n",
              "<style scoped>\n",
              "    .dataframe tbody tr th:only-of-type {\n",
              "        vertical-align: middle;\n",
              "    }\n",
              "\n",
              "    .dataframe tbody tr th {\n",
              "        vertical-align: top;\n",
              "    }\n",
              "\n",
              "    .dataframe thead th {\n",
              "        text-align: right;\n",
              "    }\n",
              "</style>\n",
              "<table border=\"1\" class=\"dataframe\">\n",
              "  <thead>\n",
              "    <tr style=\"text-align: right;\">\n",
              "      <th></th>\n",
              "      <th>0</th>\n",
              "      <th>1</th>\n",
              "      <th>2</th>\n",
              "      <th>3</th>\n",
              "      <th>4</th>\n",
              "      <th>5</th>\n",
              "      <th>6</th>\n",
              "      <th>7</th>\n",
              "      <th>8</th>\n",
              "      <th>9</th>\n",
              "      <th>10</th>\n",
              "    </tr>\n",
              "  </thead>\n",
              "  <tbody>\n",
              "    <tr>\n",
              "      <th>0</th>\n",
              "      <td>1000025</td>\n",
              "      <td>5</td>\n",
              "      <td>1</td>\n",
              "      <td>1</td>\n",
              "      <td>1</td>\n",
              "      <td>2</td>\n",
              "      <td>1</td>\n",
              "      <td>3</td>\n",
              "      <td>1</td>\n",
              "      <td>1</td>\n",
              "      <td>0</td>\n",
              "    </tr>\n",
              "    <tr>\n",
              "      <th>1</th>\n",
              "      <td>1002945</td>\n",
              "      <td>5</td>\n",
              "      <td>4</td>\n",
              "      <td>4</td>\n",
              "      <td>5</td>\n",
              "      <td>7</td>\n",
              "      <td>10</td>\n",
              "      <td>3</td>\n",
              "      <td>2</td>\n",
              "      <td>1</td>\n",
              "      <td>0</td>\n",
              "    </tr>\n",
              "    <tr>\n",
              "      <th>2</th>\n",
              "      <td>1015425</td>\n",
              "      <td>3</td>\n",
              "      <td>1</td>\n",
              "      <td>1</td>\n",
              "      <td>1</td>\n",
              "      <td>2</td>\n",
              "      <td>2</td>\n",
              "      <td>3</td>\n",
              "      <td>1</td>\n",
              "      <td>1</td>\n",
              "      <td>0</td>\n",
              "    </tr>\n",
              "    <tr>\n",
              "      <th>3</th>\n",
              "      <td>1016277</td>\n",
              "      <td>6</td>\n",
              "      <td>8</td>\n",
              "      <td>8</td>\n",
              "      <td>1</td>\n",
              "      <td>3</td>\n",
              "      <td>4</td>\n",
              "      <td>3</td>\n",
              "      <td>7</td>\n",
              "      <td>1</td>\n",
              "      <td>0</td>\n",
              "    </tr>\n",
              "    <tr>\n",
              "      <th>4</th>\n",
              "      <td>1017023</td>\n",
              "      <td>4</td>\n",
              "      <td>1</td>\n",
              "      <td>1</td>\n",
              "      <td>3</td>\n",
              "      <td>2</td>\n",
              "      <td>1</td>\n",
              "      <td>3</td>\n",
              "      <td>1</td>\n",
              "      <td>1</td>\n",
              "      <td>0</td>\n",
              "    </tr>\n",
              "  </tbody>\n",
              "</table>\n",
              "</div>"
            ],
            "text/plain": [
              "        0   1   2   3   4   5   6   7   8   9   10\n",
              "0  1000025   5   1   1   1   2   1   3   1   1   0\n",
              "1  1002945   5   4   4   5   7  10   3   2   1   0\n",
              "2  1015425   3   1   1   1   2   2   3   1   1   0\n",
              "3  1016277   6   8   8   1   3   4   3   7   1   0\n",
              "4  1017023   4   1   1   3   2   1   3   1   1   0"
            ]
          },
          "metadata": {
            "tags": []
          },
          "execution_count": 23
        }
      ]
    },
    {
      "cell_type": "markdown",
      "metadata": {
        "id": "6blOk7vTyh9B",
        "colab_type": "text"
      },
      "source": [
        "6.indexte hangi değerden kaç tane var görelim"
      ]
    },
    {
      "cell_type": "code",
      "metadata": {
        "id": "X9DDM1O9yGG8",
        "colab_type": "code",
        "colab": {
          "base_uri": "https://localhost:8080/",
          "height": 217
        },
        "outputId": "46ef56bc-e1ad-4ef7-8a58-290e75d106af"
      },
      "source": [
        "df = pd.DataFrame(data)\n",
        "df[6].value_counts()"
      ],
      "execution_count": 22,
      "outputs": [
        {
          "output_type": "execute_result",
          "data": {
            "text/plain": [
              "1     402\n",
              "10    132\n",
              "3      44\n",
              "5      30\n",
              "2      30\n",
              "8      21\n",
              "4      19\n",
              "9       9\n",
              "7       8\n",
              "6       4\n",
              "Name: 6, dtype: int64"
            ]
          },
          "metadata": {
            "tags": []
          },
          "execution_count": 22
        }
      ]
    },
    {
      "cell_type": "markdown",
      "metadata": {
        "id": "_Gn1hJdAx-qG",
        "colab_type": "text"
      },
      "source": [
        "Veri setimiz 699 hastaya ait tümöre ait bilgilerini içeriyor.\n",
        "İlk Kolon hastalara ait ID bilgisi\n",
        "\n",
        "Diğer kolonlardan 1-9 arası tüm kolonlar tümöre ait değerler. Bu değerler 1-10 arası. 1'e ne kadar yakınsa iyi huylu, 10 a ne kadar yakınsa kötü huylu demek. 10 nolu kolon ise hastanın tümörünün sonuç olarak iyi huylu mu (2 değeri) yoksa kötü huylu mu(4 değeri) olduğunun bilgisini tutuyor. Biz 1-9 kolonlarındaki değerlere bakarak 10 nolu kolondaki sonuç bilgisini yapay sinir ağı ile tahmin etmeye çalışacağız."
      ]
    },
    {
      "cell_type": "markdown",
      "metadata": {
        "id": "vj4u0Fb3ytm5",
        "colab_type": "text"
      },
      "source": [
        "10 nolu kolonda 2 olan değerleri 0, 4 olan değerleri 1 olarak değiştirelim"
      ]
    },
    {
      "cell_type": "code",
      "metadata": {
        "id": "juUOS15dt-as",
        "colab_type": "code",
        "colab": {
          "base_uri": "https://localhost:8080/",
          "height": 348
        },
        "outputId": "e8b2138f-2099-4f06-8ec9-57f1c2c0ef70"
      },
      "source": [
        "df[10] = df[10].replace(2,0).replace(4,1)\n",
        "df.head(10)"
      ],
      "execution_count": 24,
      "outputs": [
        {
          "output_type": "execute_result",
          "data": {
            "text/html": [
              "<div>\n",
              "<style scoped>\n",
              "    .dataframe tbody tr th:only-of-type {\n",
              "        vertical-align: middle;\n",
              "    }\n",
              "\n",
              "    .dataframe tbody tr th {\n",
              "        vertical-align: top;\n",
              "    }\n",
              "\n",
              "    .dataframe thead th {\n",
              "        text-align: right;\n",
              "    }\n",
              "</style>\n",
              "<table border=\"1\" class=\"dataframe\">\n",
              "  <thead>\n",
              "    <tr style=\"text-align: right;\">\n",
              "      <th></th>\n",
              "      <th>0</th>\n",
              "      <th>1</th>\n",
              "      <th>2</th>\n",
              "      <th>3</th>\n",
              "      <th>4</th>\n",
              "      <th>5</th>\n",
              "      <th>6</th>\n",
              "      <th>7</th>\n",
              "      <th>8</th>\n",
              "      <th>9</th>\n",
              "      <th>10</th>\n",
              "    </tr>\n",
              "  </thead>\n",
              "  <tbody>\n",
              "    <tr>\n",
              "      <th>0</th>\n",
              "      <td>1000025</td>\n",
              "      <td>5</td>\n",
              "      <td>1</td>\n",
              "      <td>1</td>\n",
              "      <td>1</td>\n",
              "      <td>2</td>\n",
              "      <td>1</td>\n",
              "      <td>3</td>\n",
              "      <td>1</td>\n",
              "      <td>1</td>\n",
              "      <td>0</td>\n",
              "    </tr>\n",
              "    <tr>\n",
              "      <th>1</th>\n",
              "      <td>1002945</td>\n",
              "      <td>5</td>\n",
              "      <td>4</td>\n",
              "      <td>4</td>\n",
              "      <td>5</td>\n",
              "      <td>7</td>\n",
              "      <td>10</td>\n",
              "      <td>3</td>\n",
              "      <td>2</td>\n",
              "      <td>1</td>\n",
              "      <td>0</td>\n",
              "    </tr>\n",
              "    <tr>\n",
              "      <th>2</th>\n",
              "      <td>1015425</td>\n",
              "      <td>3</td>\n",
              "      <td>1</td>\n",
              "      <td>1</td>\n",
              "      <td>1</td>\n",
              "      <td>2</td>\n",
              "      <td>2</td>\n",
              "      <td>3</td>\n",
              "      <td>1</td>\n",
              "      <td>1</td>\n",
              "      <td>0</td>\n",
              "    </tr>\n",
              "    <tr>\n",
              "      <th>3</th>\n",
              "      <td>1016277</td>\n",
              "      <td>6</td>\n",
              "      <td>8</td>\n",
              "      <td>8</td>\n",
              "      <td>1</td>\n",
              "      <td>3</td>\n",
              "      <td>4</td>\n",
              "      <td>3</td>\n",
              "      <td>7</td>\n",
              "      <td>1</td>\n",
              "      <td>0</td>\n",
              "    </tr>\n",
              "    <tr>\n",
              "      <th>4</th>\n",
              "      <td>1017023</td>\n",
              "      <td>4</td>\n",
              "      <td>1</td>\n",
              "      <td>1</td>\n",
              "      <td>3</td>\n",
              "      <td>2</td>\n",
              "      <td>1</td>\n",
              "      <td>3</td>\n",
              "      <td>1</td>\n",
              "      <td>1</td>\n",
              "      <td>0</td>\n",
              "    </tr>\n",
              "    <tr>\n",
              "      <th>5</th>\n",
              "      <td>1017122</td>\n",
              "      <td>8</td>\n",
              "      <td>10</td>\n",
              "      <td>10</td>\n",
              "      <td>8</td>\n",
              "      <td>7</td>\n",
              "      <td>10</td>\n",
              "      <td>9</td>\n",
              "      <td>7</td>\n",
              "      <td>1</td>\n",
              "      <td>1</td>\n",
              "    </tr>\n",
              "    <tr>\n",
              "      <th>6</th>\n",
              "      <td>1018099</td>\n",
              "      <td>1</td>\n",
              "      <td>1</td>\n",
              "      <td>1</td>\n",
              "      <td>1</td>\n",
              "      <td>2</td>\n",
              "      <td>10</td>\n",
              "      <td>3</td>\n",
              "      <td>1</td>\n",
              "      <td>1</td>\n",
              "      <td>0</td>\n",
              "    </tr>\n",
              "    <tr>\n",
              "      <th>7</th>\n",
              "      <td>1018561</td>\n",
              "      <td>2</td>\n",
              "      <td>1</td>\n",
              "      <td>2</td>\n",
              "      <td>1</td>\n",
              "      <td>2</td>\n",
              "      <td>1</td>\n",
              "      <td>3</td>\n",
              "      <td>1</td>\n",
              "      <td>1</td>\n",
              "      <td>0</td>\n",
              "    </tr>\n",
              "    <tr>\n",
              "      <th>8</th>\n",
              "      <td>1033078</td>\n",
              "      <td>2</td>\n",
              "      <td>1</td>\n",
              "      <td>1</td>\n",
              "      <td>1</td>\n",
              "      <td>2</td>\n",
              "      <td>1</td>\n",
              "      <td>1</td>\n",
              "      <td>1</td>\n",
              "      <td>5</td>\n",
              "      <td>0</td>\n",
              "    </tr>\n",
              "    <tr>\n",
              "      <th>9</th>\n",
              "      <td>1033078</td>\n",
              "      <td>4</td>\n",
              "      <td>2</td>\n",
              "      <td>1</td>\n",
              "      <td>1</td>\n",
              "      <td>2</td>\n",
              "      <td>1</td>\n",
              "      <td>2</td>\n",
              "      <td>1</td>\n",
              "      <td>1</td>\n",
              "      <td>0</td>\n",
              "    </tr>\n",
              "  </tbody>\n",
              "</table>\n",
              "</div>"
            ],
            "text/plain": [
              "        0   1   2   3   4   5   6   7   8   9   10\n",
              "0  1000025   5   1   1   1   2   1   3   1   1   0\n",
              "1  1002945   5   4   4   5   7  10   3   2   1   0\n",
              "2  1015425   3   1   1   1   2   2   3   1   1   0\n",
              "3  1016277   6   8   8   1   3   4   3   7   1   0\n",
              "4  1017023   4   1   1   3   2   1   3   1   1   0\n",
              "5  1017122   8  10  10   8   7  10   9   7   1   1\n",
              "6  1018099   1   1   1   1   2  10   3   1   1   0\n",
              "7  1018561   2   1   2   1   2   1   3   1   1   0\n",
              "8  1033078   2   1   1   1   2   1   1   1   5   0\n",
              "9  1033078   4   2   1   1   2   1   2   1   1   0"
            ]
          },
          "metadata": {
            "tags": []
          },
          "execution_count": 24
        }
      ]
    },
    {
      "cell_type": "markdown",
      "metadata": {
        "id": "76wI-2QGy22C",
        "colab_type": "text"
      },
      "source": [
        "Verimizi hazırladığımıza göre artık yapay sinir ağımızı oluşturabiliriz.Önce X değişkeni olarak 1-9 arası kolonlar Y değişkeni olarak 10. kolonu seçelim Verimizi %20 test %80 train olarak bölelim"
      ]
    },
    {
      "cell_type": "code",
      "metadata": {
        "id": "PMKucjC7uHWp",
        "colab_type": "code",
        "colab": {}
      },
      "source": [
        "from sklearn.model_selection import train_test_split\n",
        "\n",
        "X = df.iloc[:, 1:10]\n",
        "Y = df.iloc[:, 10]\n",
        "\n",
        "X_train, X_test, Y_train, Y_test = train_test_split(X, Y, test_size = 0.2, random_state = 0)"
      ],
      "execution_count": 0,
      "outputs": []
    },
    {
      "cell_type": "markdown",
      "metadata": {
        "id": "9CbHl0eEzPaw",
        "colab_type": "text"
      },
      "source": [
        "X değişkenlerimizi normalize edelim"
      ]
    },
    {
      "cell_type": "code",
      "metadata": {
        "id": "vwYCZ6LYuZRa",
        "colab_type": "code",
        "colab": {
          "base_uri": "https://localhost:8080/",
          "height": 146
        },
        "outputId": "f699a205-ebd3-4b33-8f41-ea6c9beb2b71"
      },
      "source": [
        "from sklearn.preprocessing import StandardScaler\n",
        "scaler = StandardScaler()\n",
        "X_train = scaler.fit_transform(X_train)\n",
        "X_test = scaler.transform(X_test)"
      ],
      "execution_count": 7,
      "outputs": [
        {
          "output_type": "stream",
          "text": [
            "/usr/local/lib/python3.6/dist-packages/sklearn/preprocessing/data.py:645: DataConversionWarning: Data with input dtype int64 were all converted to float64 by StandardScaler.\n",
            "  return self.partial_fit(X, y)\n",
            "/usr/local/lib/python3.6/dist-packages/sklearn/base.py:464: DataConversionWarning: Data with input dtype int64 were all converted to float64 by StandardScaler.\n",
            "  return self.fit(X, **fit_params).transform(X)\n",
            "/usr/local/lib/python3.6/dist-packages/ipykernel_launcher.py:4: DataConversionWarning: Data with input dtype int64 were all converted to float64 by StandardScaler.\n",
            "  after removing the cwd from sys.path.\n"
          ],
          "name": "stderr"
        }
      ]
    },
    {
      "cell_type": "markdown",
      "metadata": {
        "id": "1DgC8VeizTWe",
        "colab_type": "text"
      },
      "source": [
        "Keras ile sinir ağımızı oluşturalım"
      ]
    },
    {
      "cell_type": "code",
      "metadata": {
        "id": "UhN36AKoucM9",
        "colab_type": "code",
        "colab": {
          "base_uri": "https://localhost:8080/",
          "height": 35
        },
        "outputId": "2b19f0cd-5f9c-4a82-aab2-9bc94530e633"
      },
      "source": [
        "from keras.models import Sequential\n",
        "from keras.layers import Dense"
      ],
      "execution_count": 8,
      "outputs": [
        {
          "output_type": "stream",
          "text": [
            "Using TensorFlow backend.\n"
          ],
          "name": "stderr"
        }
      ]
    },
    {
      "cell_type": "code",
      "metadata": {
        "id": "qxMBLu36uiwp",
        "colab_type": "code",
        "colab": {}
      },
      "source": [
        "classifier = Sequential()"
      ],
      "execution_count": 0,
      "outputs": []
    },
    {
      "cell_type": "markdown",
      "metadata": {
        "id": "N_dGBGmBzZJf",
        "colab_type": "text"
      },
      "source": [
        "input layer ve hidden layerlerimizi oluşturalım. çIKIŞ 1-0 değerleri istediğimizden aktivasyon fonksiyonumuz sigmoid olacak"
      ]
    },
    {
      "cell_type": "code",
      "metadata": {
        "id": "cWWrWRZkulhE",
        "colab_type": "code",
        "colab": {
          "base_uri": "https://localhost:8080/",
          "height": 92
        },
        "outputId": "d953d493-7565-4b6b-9c86-c2a4d9cb6d71"
      },
      "source": [
        "classifier.add(Dense(units = 5, activation = 'relu', input_dim=9))\n",
        "classifier.add(Dense(units = 3, activation = 'relu'))\n",
        "classifier.add(Dense(units = 1, activation = 'sigmoid'))"
      ],
      "execution_count": 10,
      "outputs": [
        {
          "output_type": "stream",
          "text": [
            "WARNING:tensorflow:From /usr/local/lib/python3.6/dist-packages/tensorflow/python/framework/op_def_library.py:263: colocate_with (from tensorflow.python.framework.ops) is deprecated and will be removed in a future version.\n",
            "Instructions for updating:\n",
            "Colocations handled automatically by placer.\n"
          ],
          "name": "stdout"
        }
      ]
    },
    {
      "cell_type": "markdown",
      "metadata": {
        "id": "tCG-sS2NznWX",
        "colab_type": "text"
      },
      "source": [
        "Yapay Sinir Ağımızı adam optimizer, mean_squared_error ve accuracy metriği ile compile edelim"
      ]
    },
    {
      "cell_type": "code",
      "metadata": {
        "id": "Qp3rwM-2uong",
        "colab_type": "code",
        "colab": {}
      },
      "source": [
        "classifier.compile(optimizer='adam', loss='mean_squared_error', metrics=['accuracy'])"
      ],
      "execution_count": 0,
      "outputs": []
    },
    {
      "cell_type": "markdown",
      "metadata": {
        "id": "9DN_Jw_tz2cl",
        "colab_type": "text"
      },
      "source": [
        "100 epoch ve 10 batch_size ile eğitimimize başlayalım"
      ]
    },
    {
      "cell_type": "code",
      "metadata": {
        "id": "9sVI31stusbG",
        "colab_type": "code",
        "colab": {
          "base_uri": "https://localhost:8080/",
          "height": 3746
        },
        "outputId": "de67cf80-c23c-4e95-b36e-e2b59e5e3126"
      },
      "source": [
        "classifier.fit(X_train, Y_train, batch_size = 10, epochs = 100)"
      ],
      "execution_count": 12,
      "outputs": [
        {
          "output_type": "stream",
          "text": [
            "WARNING:tensorflow:From /usr/local/lib/python3.6/dist-packages/tensorflow/python/ops/math_ops.py:3066: to_int32 (from tensorflow.python.ops.math_ops) is deprecated and will be removed in a future version.\n",
            "Instructions for updating:\n",
            "Use tf.cast instead.\n",
            "Epoch 1/100\n",
            "559/559 [==============================] - 3s 5ms/step - loss: 0.2763 - acc: 0.6673\n",
            "Epoch 2/100\n",
            "559/559 [==============================] - 0s 292us/step - loss: 0.1905 - acc: 0.7639\n",
            "Epoch 3/100\n",
            "559/559 [==============================] - 0s 294us/step - loss: 0.1274 - acc: 0.8265\n",
            "Epoch 4/100\n",
            "559/559 [==============================] - 0s 298us/step - loss: 0.0876 - acc: 0.8927\n",
            "Epoch 5/100\n",
            "559/559 [==============================] - 0s 274us/step - loss: 0.0653 - acc: 0.9284\n",
            "Epoch 6/100\n",
            "559/559 [==============================] - 0s 289us/step - loss: 0.0531 - acc: 0.9356\n",
            "Epoch 7/100\n",
            "559/559 [==============================] - 0s 289us/step - loss: 0.0451 - acc: 0.9463\n",
            "Epoch 8/100\n",
            "559/559 [==============================] - 0s 277us/step - loss: 0.0394 - acc: 0.9499\n",
            "Epoch 9/100\n",
            "559/559 [==============================] - 0s 275us/step - loss: 0.0350 - acc: 0.9571\n",
            "Epoch 10/100\n",
            "559/559 [==============================] - 0s 308us/step - loss: 0.0319 - acc: 0.9606\n",
            "Epoch 11/100\n",
            "559/559 [==============================] - 0s 280us/step - loss: 0.0298 - acc: 0.9642\n",
            "Epoch 12/100\n",
            "559/559 [==============================] - 0s 293us/step - loss: 0.0283 - acc: 0.9624\n",
            "Epoch 13/100\n",
            "559/559 [==============================] - 0s 276us/step - loss: 0.0272 - acc: 0.9624\n",
            "Epoch 14/100\n",
            "559/559 [==============================] - 0s 297us/step - loss: 0.0263 - acc: 0.9642\n",
            "Epoch 15/100\n",
            "559/559 [==============================] - 0s 268us/step - loss: 0.0257 - acc: 0.9660\n",
            "Epoch 16/100\n",
            "559/559 [==============================] - 0s 250us/step - loss: 0.0251 - acc: 0.9678\n",
            "Epoch 17/100\n",
            "559/559 [==============================] - 0s 272us/step - loss: 0.0245 - acc: 0.9696\n",
            "Epoch 18/100\n",
            "559/559 [==============================] - 0s 253us/step - loss: 0.0241 - acc: 0.9696\n",
            "Epoch 19/100\n",
            "559/559 [==============================] - 0s 251us/step - loss: 0.0237 - acc: 0.9696\n",
            "Epoch 20/100\n",
            "559/559 [==============================] - 0s 250us/step - loss: 0.0232 - acc: 0.9696\n",
            "Epoch 21/100\n",
            "559/559 [==============================] - 0s 258us/step - loss: 0.0229 - acc: 0.9696\n",
            "Epoch 22/100\n",
            "559/559 [==============================] - 0s 254us/step - loss: 0.0226 - acc: 0.9696\n",
            "Epoch 23/100\n",
            "559/559 [==============================] - 0s 250us/step - loss: 0.0222 - acc: 0.9696\n",
            "Epoch 24/100\n",
            "559/559 [==============================] - 0s 266us/step - loss: 0.0219 - acc: 0.9696\n",
            "Epoch 25/100\n",
            "559/559 [==============================] - 0s 252us/step - loss: 0.0216 - acc: 0.9714\n",
            "Epoch 26/100\n",
            "559/559 [==============================] - 0s 249us/step - loss: 0.0214 - acc: 0.9696\n",
            "Epoch 27/100\n",
            "559/559 [==============================] - 0s 255us/step - loss: 0.0211 - acc: 0.9696\n",
            "Epoch 28/100\n",
            "559/559 [==============================] - 0s 255us/step - loss: 0.0209 - acc: 0.9732\n",
            "Epoch 29/100\n",
            "559/559 [==============================] - 0s 255us/step - loss: 0.0207 - acc: 0.9750\n",
            "Epoch 30/100\n",
            "559/559 [==============================] - 0s 261us/step - loss: 0.0205 - acc: 0.9750\n",
            "Epoch 31/100\n",
            "559/559 [==============================] - 0s 270us/step - loss: 0.0203 - acc: 0.9750\n",
            "Epoch 32/100\n",
            "559/559 [==============================] - 0s 253us/step - loss: 0.0201 - acc: 0.9750\n",
            "Epoch 33/100\n",
            "559/559 [==============================] - 0s 249us/step - loss: 0.0198 - acc: 0.9767\n",
            "Epoch 34/100\n",
            "559/559 [==============================] - 0s 253us/step - loss: 0.0196 - acc: 0.9767\n",
            "Epoch 35/100\n",
            "559/559 [==============================] - 0s 253us/step - loss: 0.0195 - acc: 0.9767\n",
            "Epoch 36/100\n",
            "559/559 [==============================] - 0s 250us/step - loss: 0.0194 - acc: 0.9767\n",
            "Epoch 37/100\n",
            "559/559 [==============================] - 0s 261us/step - loss: 0.0193 - acc: 0.9785\n",
            "Epoch 38/100\n",
            "559/559 [==============================] - 0s 273us/step - loss: 0.0192 - acc: 0.9767\n",
            "Epoch 39/100\n",
            "559/559 [==============================] - 0s 254us/step - loss: 0.0190 - acc: 0.9785\n",
            "Epoch 40/100\n",
            "559/559 [==============================] - 0s 251us/step - loss: 0.0189 - acc: 0.9785\n",
            "Epoch 41/100\n",
            "559/559 [==============================] - 0s 250us/step - loss: 0.0188 - acc: 0.9785\n",
            "Epoch 42/100\n",
            "559/559 [==============================] - 0s 250us/step - loss: 0.0187 - acc: 0.9785\n",
            "Epoch 43/100\n",
            "559/559 [==============================] - 0s 250us/step - loss: 0.0185 - acc: 0.9785\n",
            "Epoch 44/100\n",
            "559/559 [==============================] - 0s 254us/step - loss: 0.0185 - acc: 0.9767\n",
            "Epoch 45/100\n",
            "559/559 [==============================] - 0s 265us/step - loss: 0.0184 - acc: 0.9767\n",
            "Epoch 46/100\n",
            "559/559 [==============================] - 0s 257us/step - loss: 0.0183 - acc: 0.9785\n",
            "Epoch 47/100\n",
            "559/559 [==============================] - 0s 250us/step - loss: 0.0181 - acc: 0.9803\n",
            "Epoch 48/100\n",
            "559/559 [==============================] - 0s 252us/step - loss: 0.0182 - acc: 0.9767\n",
            "Epoch 49/100\n",
            "559/559 [==============================] - 0s 258us/step - loss: 0.0181 - acc: 0.9785\n",
            "Epoch 50/100\n",
            "559/559 [==============================] - 0s 252us/step - loss: 0.0179 - acc: 0.9803\n",
            "Epoch 51/100\n",
            "559/559 [==============================] - 0s 255us/step - loss: 0.0179 - acc: 0.9803\n",
            "Epoch 52/100\n",
            "559/559 [==============================] - 0s 267us/step - loss: 0.0178 - acc: 0.9803\n",
            "Epoch 53/100\n",
            "559/559 [==============================] - 0s 257us/step - loss: 0.0178 - acc: 0.9785\n",
            "Epoch 54/100\n",
            "559/559 [==============================] - 0s 252us/step - loss: 0.0176 - acc: 0.9803\n",
            "Epoch 55/100\n",
            "559/559 [==============================] - 0s 257us/step - loss: 0.0176 - acc: 0.9803\n",
            "Epoch 56/100\n",
            "559/559 [==============================] - 0s 258us/step - loss: 0.0175 - acc: 0.9803\n",
            "Epoch 57/100\n",
            "559/559 [==============================] - 0s 255us/step - loss: 0.0174 - acc: 0.9803\n",
            "Epoch 58/100\n",
            "559/559 [==============================] - 0s 261us/step - loss: 0.0174 - acc: 0.9803\n",
            "Epoch 59/100\n",
            "559/559 [==============================] - 0s 271us/step - loss: 0.0174 - acc: 0.9803\n",
            "Epoch 60/100\n",
            "559/559 [==============================] - 0s 252us/step - loss: 0.0173 - acc: 0.9803\n",
            "Epoch 61/100\n",
            "559/559 [==============================] - 0s 250us/step - loss: 0.0172 - acc: 0.9803\n",
            "Epoch 62/100\n",
            "559/559 [==============================] - 0s 252us/step - loss: 0.0171 - acc: 0.9803\n",
            "Epoch 63/100\n",
            "559/559 [==============================] - 0s 254us/step - loss: 0.0171 - acc: 0.9803\n",
            "Epoch 64/100\n",
            "559/559 [==============================] - 0s 252us/step - loss: 0.0170 - acc: 0.9803\n",
            "Epoch 65/100\n",
            "559/559 [==============================] - 0s 252us/step - loss: 0.0170 - acc: 0.9803\n",
            "Epoch 66/100\n",
            "559/559 [==============================] - 0s 277us/step - loss: 0.0169 - acc: 0.9803\n",
            "Epoch 67/100\n",
            "559/559 [==============================] - 0s 251us/step - loss: 0.0169 - acc: 0.9803\n",
            "Epoch 68/100\n",
            "559/559 [==============================] - 0s 250us/step - loss: 0.0168 - acc: 0.9803\n",
            "Epoch 69/100\n",
            "559/559 [==============================] - 0s 258us/step - loss: 0.0167 - acc: 0.9803\n",
            "Epoch 70/100\n",
            "559/559 [==============================] - 0s 254us/step - loss: 0.0167 - acc: 0.9803\n",
            "Epoch 71/100\n",
            "559/559 [==============================] - 0s 257us/step - loss: 0.0167 - acc: 0.9803\n",
            "Epoch 72/100\n",
            "559/559 [==============================] - 0s 255us/step - loss: 0.0166 - acc: 0.9803\n",
            "Epoch 73/100\n",
            "559/559 [==============================] - 0s 269us/step - loss: 0.0165 - acc: 0.9803\n",
            "Epoch 74/100\n",
            "559/559 [==============================] - 0s 256us/step - loss: 0.0165 - acc: 0.9803\n",
            "Epoch 75/100\n",
            "559/559 [==============================] - 0s 255us/step - loss: 0.0164 - acc: 0.9803\n",
            "Epoch 76/100\n",
            "559/559 [==============================] - 0s 253us/step - loss: 0.0165 - acc: 0.9803\n",
            "Epoch 77/100\n",
            "559/559 [==============================] - 0s 252us/step - loss: 0.0163 - acc: 0.9821\n",
            "Epoch 78/100\n",
            "559/559 [==============================] - 0s 250us/step - loss: 0.0163 - acc: 0.9803\n",
            "Epoch 79/100\n",
            "559/559 [==============================] - 0s 255us/step - loss: 0.0162 - acc: 0.9821\n",
            "Epoch 80/100\n",
            "559/559 [==============================] - 0s 265us/step - loss: 0.0162 - acc: 0.9803\n",
            "Epoch 81/100\n",
            "559/559 [==============================] - 0s 254us/step - loss: 0.0162 - acc: 0.9803\n",
            "Epoch 82/100\n",
            "559/559 [==============================] - 0s 250us/step - loss: 0.0161 - acc: 0.9803\n",
            "Epoch 83/100\n",
            "559/559 [==============================] - 0s 251us/step - loss: 0.0161 - acc: 0.9821\n",
            "Epoch 84/100\n",
            "559/559 [==============================] - 0s 250us/step - loss: 0.0160 - acc: 0.9821\n",
            "Epoch 85/100\n",
            "559/559 [==============================] - 0s 260us/step - loss: 0.0160 - acc: 0.9803\n",
            "Epoch 86/100\n",
            "559/559 [==============================] - 0s 256us/step - loss: 0.0159 - acc: 0.9803\n",
            "Epoch 87/100\n",
            "559/559 [==============================] - 0s 253us/step - loss: 0.0158 - acc: 0.9821\n",
            "Epoch 88/100\n",
            "559/559 [==============================] - 0s 266us/step - loss: 0.0158 - acc: 0.9803\n",
            "Epoch 89/100\n",
            "559/559 [==============================] - 0s 250us/step - loss: 0.0158 - acc: 0.9803\n",
            "Epoch 90/100\n",
            "559/559 [==============================] - 0s 251us/step - loss: 0.0157 - acc: 0.9803\n",
            "Epoch 91/100\n",
            "559/559 [==============================] - 0s 257us/step - loss: 0.0157 - acc: 0.9803\n",
            "Epoch 92/100\n",
            "559/559 [==============================] - 0s 259us/step - loss: 0.0157 - acc: 0.9803\n",
            "Epoch 93/100\n",
            "559/559 [==============================] - 0s 256us/step - loss: 0.0156 - acc: 0.9821\n",
            "Epoch 94/100\n",
            "559/559 [==============================] - 0s 255us/step - loss: 0.0156 - acc: 0.9803\n",
            "Epoch 95/100\n",
            "559/559 [==============================] - 0s 270us/step - loss: 0.0155 - acc: 0.9803\n",
            "Epoch 96/100\n",
            "559/559 [==============================] - 0s 254us/step - loss: 0.0155 - acc: 0.9803\n",
            "Epoch 97/100\n",
            "559/559 [==============================] - 0s 253us/step - loss: 0.0154 - acc: 0.9803\n",
            "Epoch 98/100\n",
            "559/559 [==============================] - 0s 254us/step - loss: 0.0154 - acc: 0.9803\n",
            "Epoch 99/100\n",
            "559/559 [==============================] - 0s 252us/step - loss: 0.0153 - acc: 0.9821\n",
            "Epoch 100/100\n",
            "559/559 [==============================] - 0s 256us/step - loss: 0.0153 - acc: 0.9803\n"
          ],
          "name": "stdout"
        },
        {
          "output_type": "execute_result",
          "data": {
            "text/plain": [
              "<keras.callbacks.History at 0x7fb8b5a23630>"
            ]
          },
          "metadata": {
            "tags": []
          },
          "execution_count": 12
        }
      ]
    },
    {
      "cell_type": "markdown",
      "metadata": {
        "id": "Xe9nuUaM0SPM",
        "colab_type": "text"
      },
      "source": [
        "Test olarak ayırdığımız X değerlerini tahmin edelim"
      ]
    },
    {
      "cell_type": "code",
      "metadata": {
        "id": "8UMYQhLhuvaE",
        "colab_type": "code",
        "colab": {
          "base_uri": "https://localhost:8080/",
          "height": 55
        },
        "outputId": "262287b4-f930-4b02-c64a-85938d8a5525"
      },
      "source": [
        "Y_pred = classifier.predict(X_test)\n",
        "Y_pred = [ 1 if y>=0.5 else 0 for y in Y_pred]\n",
        "print(Y_pred)"
      ],
      "execution_count": 13,
      "outputs": [
        {
          "output_type": "stream",
          "text": [
            "[0, 0, 1, 0, 1, 0, 1, 0, 1, 1, 0, 0, 1, 1, 1, 0, 0, 1, 1, 0, 1, 1, 0, 0, 0, 1, 0, 0, 1, 1, 0, 0, 0, 0, 0, 0, 0, 1, 0, 0, 0, 0, 0, 0, 1, 1, 0, 1, 0, 1, 1, 0, 0, 1, 0, 0, 0, 0, 0, 0, 1, 0, 0, 1, 1, 1, 1, 0, 0, 1, 0, 0, 1, 1, 0, 0, 0, 0, 1, 0, 0, 0, 1, 0, 0, 0, 1, 0, 1, 1, 0, 0, 1, 1, 0, 0, 0, 1, 0, 1, 1, 0, 0, 0, 1, 0, 0, 0, 0, 0, 1, 1, 1, 0, 0, 0, 0, 0, 1, 1, 1, 1, 0, 1, 0, 0, 1, 1, 1, 1, 1, 0, 0, 1, 1, 0, 0, 1, 0, 0]\n"
          ],
          "name": "stdout"
        }
      ]
    },
    {
      "cell_type": "markdown",
      "metadata": {
        "id": "iwznl47U0YDD",
        "colab_type": "text"
      },
      "source": [
        "Confussion matrix ile baktığımızda 0 ile encode ettiğimiz 85 değerin 3 ünü yanlış bilmiş 82 sini doğru bilmiş\n",
        "\n",
        "55 kötü huylu tümörün sadece birini yanlış bilmiş"
      ]
    },
    {
      "cell_type": "code",
      "metadata": {
        "id": "PE-jqP3hu3hy",
        "colab_type": "code",
        "colab": {
          "base_uri": "https://localhost:8080/",
          "height": 54
        },
        "outputId": "c697da6d-79ed-4d1b-aa61-a948c2c3df0b"
      },
      "source": [
        "from sklearn.metrics import confusion_matrix\n",
        "cm = confusion_matrix(Y_test, Y_pred)\n",
        "print(cm)"
      ],
      "execution_count": 14,
      "outputs": [
        {
          "output_type": "stream",
          "text": [
            "[[82  3]\n",
            " [ 1 54]]\n"
          ],
          "name": "stdout"
        }
      ]
    },
    {
      "cell_type": "markdown",
      "metadata": {
        "id": "LRC4mlYE0061",
        "colab_type": "text"
      },
      "source": [
        "# Faydalı olması dileğiyle"
      ]
    }
  ]
}